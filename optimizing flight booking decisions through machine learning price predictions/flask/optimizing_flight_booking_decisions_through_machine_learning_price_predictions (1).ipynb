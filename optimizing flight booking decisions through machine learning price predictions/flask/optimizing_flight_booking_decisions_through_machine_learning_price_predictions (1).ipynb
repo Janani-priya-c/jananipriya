{
  "nbformat": 4,
  "nbformat_minor": 0,
  "metadata": {
    "colab": {
      "provenance": []
    },
    "kernelspec": {
      "name": "python3",
      "display_name": "Python 3"
    },
    "language_info": {
      "name": "python"
    }
  },
  "cells": [
    {
      "cell_type": "markdown",
      "source": [
        "Importing the libraries"
      ],
      "metadata": {
        "id": "0z9p2nAJ64fj"
      }
    },
    {
      "cell_type": "code",
      "source": [
        "import numpy as np\n",
        "import pandas as pd\n",
        "import matplotlib.pyplot as plt\n",
        "import seaborn as sns\n",
        "from sklearn.model_selection import train_test_split\n",
        "from sklearn.ensemble import RandomForestClassifier, GradientBoostingClassifier\n",
        "from sklearn.tree import DecisionTreeClassifier\n",
        "from sklearn.neighbors import KNeighborsClassifier \n",
        "from sklearn.metrics import f1_score\n",
        "from sklearn.metrics import classification_report, confusion_matrix\n",
        "import warnings \n",
        "import pickle\n",
        "from scipy import stats\n",
        "warnings.filterwarnings('ignore')\n",
        "plt.style.use('fivethirtyeight')"
      ],
      "metadata": {
        "id": "itzFR6ZH6jFw"
      },
      "execution_count": null,
      "outputs": []
    },
    {
      "cell_type": "code",
      "source": [
        "data-pd.read_csv(\"r'Data_Train.csv\")"
      ],
      "metadata": {
        "colab": {
          "base_uri": "https://localhost:8080/",
          "height": 165
        },
        "id": "PPJfgBk5_Ulq",
        "outputId": "82c44415-a9a7-44b5-a36d-019ea828366c"
      },
      "execution_count": null,
      "outputs": [
        {
          "output_type": "error",
          "ename": "NameError",
          "evalue": "ignored",
          "traceback": [
            "\u001b[0;31m---------------------------------------------------------------------------\u001b[0m",
            "\u001b[0;31mNameError\u001b[0m                                 Traceback (most recent call last)",
            "\u001b[0;32m<ipython-input-2-aeccd5baef6a>\u001b[0m in \u001b[0;36m<cell line: 1>\u001b[0;34m()\u001b[0m\n\u001b[0;32m----> 1\u001b[0;31m \u001b[0mdata\u001b[0m\u001b[0;34m-\u001b[0m\u001b[0mpd\u001b[0m\u001b[0;34m.\u001b[0m\u001b[0mread_csv\u001b[0m\u001b[0;34m(\u001b[0m\u001b[0;34m\"r'Data_Train.csv\"\u001b[0m\u001b[0;34m)\u001b[0m\u001b[0;34m\u001b[0m\u001b[0;34m\u001b[0m\u001b[0m\n\u001b[0m",
            "\u001b[0;31mNameError\u001b[0m: name 'data' is not defined"
          ]
        }
      ]
    },
    {
      "cell_type": "code",
      "source": [
        "data.head"
      ],
      "metadata": {
        "id": "dSQSlX67AZcX"
      },
      "execution_count": null,
      "outputs": []
    },
    {
      "cell_type": "code",
      "source": [
        "for i in category:\n",
        "    print(i, data[i].unique())"
      ],
      "metadata": {
        "id": "ScapBSjpAx9Q"
      },
      "execution_count": null,
      "outputs": []
    },
    {
      "cell_type": "code",
      "source": [
        "#We now split the Date column to extract the 'Date','Month'and 'Year'values, and store them in new columns in our dataframe.\n",
        "data.Date_of_Journey-data.Date_of_Journey.str.split('/')"
      ],
      "metadata": {
        "id": "DYIDkJpgBH-2"
      },
      "execution_count": null,
      "outputs": []
    },
    {
      "cell_type": "code",
      "source": [
        "data.Date_of_Journey"
      ],
      "metadata": {
        "id": "BG9miVsrB_PH"
      },
      "execution_count": null,
      "outputs": []
    },
    {
      "cell_type": "code",
      "source": [
        "#Treating the data_column\n",
        "data['Date']=data.Date_of_Journey.str[e]\n",
        "data['Month']=data.Date_of_Journey.str[1] data['Year']=data.Date_of_Journey.str[2]"
      ],
      "metadata": {
        "id": "5lqlV87_CG9R"
      },
      "execution_count": null,
      "outputs": []
    },
    {
      "cell_type": "code",
      "source": [
        "data.total_stop.unique"
      ],
      "metadata": {
        "id": "na1ksZAPCjtl"
      },
      "execution_count": null,
      "outputs": []
    },
    {
      "cell_type": "code",
      "source": [
        "#Since the maximum number of stops is 4, there should be maximum 6 cities in any particular route. We split the data in route col\n",
        "data. Route-data. Route.str.split(\"-\")\n",
        "data.Route"
      ],
      "metadata": {
        "id": "u2iS1d8XDDLw"
      },
      "execution_count": null,
      "outputs": []
    },
    {
      "cell_type": "code",
      "source": [
        "data['City']=data.Route.str[0]\n",
        "data['City2'-data.Route.str[1]\n",
        "data['City3\"]-data.Route.str[2]\n",
        "data['City4'-data.Route.str[3]\n",
        "data['City'-data.Route.str[4]\n",
        "data[\"City\"]-data.Route.str[5]"
      ],
      "metadata": {
        "id": "H9TwDZXWDYys"
      },
      "execution_count": null,
      "outputs": []
    },
    {
      "cell_type": "code",
      "source": [
        "#In the similar manner, we split the Dep_time column, and create separate columns for departure hours and minutes -\n",
        "data.Dep_Time-data.Dep_Time.str.split(\":\")"
      ],
      "metadata": {
        "id": "JADpF_aDDm1t"
      },
      "execution_count": null,
      "outputs": []
    },
    {
      "cell_type": "code",
      "source": [
        "data['Dep_Time_Hour\"]=data.Dep_Time.str[0]\n",
        "data[\"Dep_Time_Mins']=data.Dep_Time.str[1]"
      ],
      "metadata": {
        "id": "aL-jKuuYEKOR"
      },
      "execution_count": null,
      "outputs": []
    },
    {
      "cell_type": "code",
      "source": [
        "data.Arrival Time-data. Arrival Time.str.split(' ')"
      ],
      "metadata": {
        "id": "OAXTbs-qEN5O"
      },
      "execution_count": null,
      "outputs": []
    },
    {
      "cell_type": "code",
      "source": [
        "data['Arrival_date']=data.Arrival_Time.str[1]\n",
        "data['Time_of_Arrival\"]-data.Arrival_Tine.str[0]"
      ],
      "metadata": {
        "id": "jB44mZwUEgn_"
      },
      "execution_count": null,
      "outputs": []
    },
    {
      "cell_type": "code",
      "source": [
        "data['Time_of_Arrival']=data.Time_of_Arrival.str.split(':')"
      ],
      "metadata": {
        "id": "JAwntvFdElib"
      },
      "execution_count": null,
      "outputs": []
    },
    {
      "cell_type": "code",
      "source": [
        "data['Arrival_Time_Hour']=data.Time_of_Arrival.str[0]\n",
        "data['Arrival_Time_Mins' ]-data.Time_of_Arrival.str[1]"
      ],
      "metadata": {
        "colab": {
          "base_uri": "https://localhost:8080/",
          "height": 304
        },
        "id": "Z32cpEqVEoaV",
        "outputId": "a6cb1449-90d7-4798-8a12-b53a12c9a3c7"
      },
      "execution_count": null,
      "outputs": [
        {
          "output_type": "error",
          "ename": "AttributeError",
          "evalue": "ignored",
          "traceback": [
            "\u001b[0;31m---------------------------------------------------------------------------\u001b[0m",
            "\u001b[0;31mAttributeError\u001b[0m                            Traceback (most recent call last)",
            "\u001b[0;32m<ipython-input-65-14b6e0803c2c>\u001b[0m in \u001b[0;36m<cell line: 1>\u001b[0;34m()\u001b[0m\n\u001b[0;32m----> 1\u001b[0;31m \u001b[0mdata\u001b[0m\u001b[0;34m[\u001b[0m\u001b[0;34m'Arrival_Time_Hour'\u001b[0m\u001b[0;34m]\u001b[0m\u001b[0;34m=\u001b[0m\u001b[0mdata\u001b[0m\u001b[0;34m.\u001b[0m\u001b[0mTime_of_Arrival\u001b[0m\u001b[0;34m.\u001b[0m\u001b[0mstr\u001b[0m\u001b[0;34m[\u001b[0m\u001b[0;36m0\u001b[0m\u001b[0;34m]\u001b[0m\u001b[0;34m\u001b[0m\u001b[0;34m\u001b[0m\u001b[0m\n\u001b[0m\u001b[1;32m      2\u001b[0m \u001b[0mdata\u001b[0m\u001b[0;34m[\u001b[0m\u001b[0;34m'Arrival_Time_Mins'\u001b[0m \u001b[0;34m]\u001b[0m\u001b[0;34m-\u001b[0m\u001b[0mdata\u001b[0m\u001b[0;34m.\u001b[0m\u001b[0mTime_of_Arrival\u001b[0m\u001b[0;34m.\u001b[0m\u001b[0mstr\u001b[0m\u001b[0;34m[\u001b[0m\u001b[0;36m1\u001b[0m\u001b[0;34m]\u001b[0m\u001b[0;34m\u001b[0m\u001b[0;34m\u001b[0m\u001b[0m\n",
            "\u001b[0;32m/usr/local/lib/python3.9/dist-packages/scipy/sparse/data.py\u001b[0m in \u001b[0;36m__getattr__\u001b[0;34m(name)\u001b[0m\n\u001b[1;32m     23\u001b[0m \u001b[0;32mdef\u001b[0m \u001b[0m__getattr__\u001b[0m\u001b[0;34m(\u001b[0m\u001b[0mname\u001b[0m\u001b[0;34m)\u001b[0m\u001b[0;34m:\u001b[0m\u001b[0;34m\u001b[0m\u001b[0;34m\u001b[0m\u001b[0m\n\u001b[1;32m     24\u001b[0m     \u001b[0;32mif\u001b[0m \u001b[0mname\u001b[0m \u001b[0;32mnot\u001b[0m \u001b[0;32min\u001b[0m \u001b[0m__all__\u001b[0m\u001b[0;34m:\u001b[0m\u001b[0;34m\u001b[0m\u001b[0;34m\u001b[0m\u001b[0m\n\u001b[0;32m---> 25\u001b[0;31m         raise AttributeError(\n\u001b[0m\u001b[1;32m     26\u001b[0m             \u001b[0;34m\"scipy.sparse.data is deprecated and has no attribute \"\u001b[0m\u001b[0;34m\u001b[0m\u001b[0;34m\u001b[0m\u001b[0m\n\u001b[1;32m     27\u001b[0m             f\"{name}. Try looking in scipy.sparse instead.\")\n",
            "\u001b[0;31mAttributeError\u001b[0m: scipy.sparse.data is deprecated and has no attribute Time_of_Arrival. Try looking in scipy.sparse instead."
          ]
        }
      ]
    },
    {
      "cell_type": "code",
      "source": [
        "#Next, we divide the 'Duration' column to 'Travel_hours' and 'Travel_mins'\n",
        "data.Duration=data.Duration.str.split(' ')"
      ],
      "metadata": {
        "id": "q4y6pqcxEu3Q"
      },
      "execution_count": null,
      "outputs": []
    },
    {
      "cell_type": "code",
      "source": [
        "data['Travel_Hours']=data.Duration.str[0]\n",
        "data['Travel Hours']=data['Travel_Hours'].str.split('h')\n",
        "data['Travel_Hours']=data['Travel_Hours'].str[0] \n",
        "data.Travel_Hours=data.Travel_Hours\n",
        "data['Travel_Mins']=data.Duration.str[1]\n",
        "\n",
        "data.Travel_Mins=data.Travel_Mins.str.split('m')\n",
        "data.Travel_Mins=data.Travel_Mins.np.str[0]"
      ],
      "metadata": {
        "id": "xRwhIZwQGT5n"
      },
      "execution_count": null,
      "outputs": []
    },
    {
      "cell_type": "code",
      "source": [
        "#We also treat the 'Total_stops' column, and replace non-stop flights with 0 value and extract the integer part of the 'Total_Stops'\n",
        "data.Total_Stops.replace(\"non_stop',0,inplace=True)\n",
        "data.Total_Stops=data. Total_Stops.str.split(' ')\n",
        "data.Total_Stops=data.Total_Stops.str[0]"
      ],
      "metadata": {
        "id": "jO768G-TIXn7"
      },
      "execution_count": null,
      "outputs": []
    },
    {
      "cell_type": "code",
      "source": [
        "#We also treat the 'Total_stops' column, and replace non-stop flights with 0 value and extract the integer part of the 'Total_Stops'\n",
        "data.Total_Stops.replace('non_stop',0,inplace=True) \n",
        "data.Total_Stops-data.Total_Stops.str.split(' ') \n",
        "data.Total_Stops-data.Total_Stops.str[0]"
      ],
      "metadata": {
        "id": "fMfE8Owgb8MT"
      },
      "execution_count": null,
      "outputs": []
    },
    {
      "cell_type": "code",
      "source": [
        "data.Additional_Info.unique()"
      ],
      "metadata": {
        "id": "tI-y9qpyeB5Y"
      },
      "execution_count": null,
      "outputs": []
    },
    {
      "cell_type": "code",
      "source": [
        "data.Additional_Info.replace('No Info', 'No info',inplace=True)"
      ],
      "metadata": {
        "id": "rqKaCv2LecmV"
      },
      "execution_count": null,
      "outputs": []
    },
    {
      "cell_type": "code",
      "source": [
        "data.isnull().sum()"
      ],
      "metadata": {
        "id": "Kl4TYNGheo1y"
      },
      "execution_count": null,
      "outputs": []
    },
    {
      "cell_type": "code",
      "source": [
        "#We also drop some columns like 'city6' and 'city5', since majority of the data in these columns was NaN(null) \n",
        "data.drop(['City4', 'City5', 'City6'],axis=1,inplace=True)"
      ],
      "metadata": {
        "id": "Uv8oefbAfLtD"
      },
      "execution_count": null,
      "outputs": []
    },
    {
      "cell_type": "code",
      "source": [
        "data.drop(['Date_of_Journey', 'Route', 'Dep_Time', 'Arrival_Time', 'Duration'],axis=1, inplace=True) \n",
        "data.drop(['Time_of_Arrival'],axis=1, inplace=True)"
      ],
      "metadata": {
        "id": "v1JbAFUrgcxR"
      },
      "execution_count": null,
      "outputs": []
    },
    {
      "cell_type": "code",
      "source": [
        "#Checking Null Values\n",
        "data.isnull().sum()"
      ],
      "metadata": {
        "id": "PvB3bucDg5tF"
      },
      "execution_count": null,
      "outputs": []
    },
    {
      "cell_type": "code",
      "source": [
        "#filling City3 as None, the missing values are less \n",
        "data['City3'].fillna('None',inplace=True)"
      ],
      "metadata": {
        "id": "BqclgwbhiXIA"
      },
      "execution_count": null,
      "outputs": []
    },
    {
      "cell_type": "code",
      "source": [
        "#filling Arrival_Date as Departure_Date \n",
        "data['Arrival_date'].fillna(data['Date'],inplace=True)"
      ],
      "metadata": {
        "id": "HgGT24fIi-Lo"
      },
      "execution_count": null,
      "outputs": []
    },
    {
      "cell_type": "code",
      "source": [
        "#filling Travel_Mins as Zero(0)\n",
        "data['Travel_Mins'].fillna(0,inplace=True)"
      ],
      "metadata": {
        "id": "UPzOvxXOj3KS"
      },
      "execution_count": null,
      "outputs": []
    },
    {
      "cell_type": "code",
      "source": [
        "data.info()"
      ],
      "metadata": {
        "id": "fiLoQZohkyDj"
      },
      "execution_count": null,
      "outputs": []
    },
    {
      "cell_type": "code",
      "source": [
        "#changing the numerical columns from object to int \n",
        "#data.Total_Stops=data.Total_Stops.astype('int64')\n",
        "data.Date=data.Date.astype('int64')\n",
        "data.Month=data.Month.astype('int64')\n",
        "data.Year=data.Year.astype('int64')\n",
        "data.Dep_Time_Hour=data.Dep_Time_Hour.astype('int64')\n",
        "data.Dep_Time_Hour=data.Dep_Time_Hour.astype('int64')\n",
        "data.Dep_Time_Mins=data.Dep_Time_Mins.astype('int64') \n",
        "data.Arrival_date=data.Arrival_date.astype(\"int64\")\n",
        "data.Arrival_Time_Hour=data.Arrival_Time_Hour.astype('int64')\n",
        "data.Arrival_Time_Mins=data.Arrival_Time_Mins.astype('int64')\n",
        "#data.Travel_Hours=data.Travel_Hours.astype('int64')\n",
        "data.Travel_Mins=data.Travel_Mins.astype('int64')"
      ],
      "metadata": {
        "id": "lYbdMbRClRsh"
      },
      "execution_count": null,
      "outputs": []
    },
    {
      "cell_type": "code",
      "source": [
        "data[data('Travel_Hours']=='5m']"
      ],
      "metadata": {
        "id": "-B0bAXKOmmiu"
      },
      "execution_count": null,
      "outputs": []
    },
    {
      "cell_type": "code",
      "source": [
        "data.drop(index=6474,inplace=True,axis=0)"
      ],
      "metadata": {
        "id": "Gw1f3tdBnFxC"
      },
      "execution_count": null,
      "outputs": []
    },
    {
      "cell_type": "code",
      "source": [
        "data.Travel_Hours=data.Travel_Hours.astype('int64')"
      ],
      "metadata": {
        "id": "ePitXgfGnlvj"
      },
      "execution_count": null,
      "outputs": []
    },
    {
      "cell_type": "code",
      "source": [
        "#Creating list of Different types of columns\n",
        "categorical=['Airline', 'Source', 'Destination', 'Additional_Info', 'City1'] \n",
        "numerical=['Total_Stops', 'Date', 'Month', 'Year', 'Dep_Time_Hour', 'Dep_Time_Mins', 'Arrival_date', 'Arrival_Time_Hour', 'Arrival_Time_Mins', 'Travel_Hours', 'Travel_Mins']"
      ],
      "metadata": {
        "id": "Qe39OhjzoDQo"
      },
      "execution_count": null,
      "outputs": []
    },
    {
      "cell_type": "code",
      "source": [
        "from sklearn.preprocessing import LabelEncoder \n",
        "le=LabelEncoder()"
      ],
      "metadata": {
        "id": "oRG1oDDGodvp"
      },
      "execution_count": null,
      "outputs": []
    },
    {
      "cell_type": "code",
      "source": [
        "from sklearn.metrics.cluster import contingency_matrix\n",
        "data.Airline=le.fit_transform(data.Airline)\n",
        "data.Source=le.fit_transform(data.Source) \n",
        "data.Destination=le.fit_transform(data.Destination) \n",
        "data.Total_Stops=le.fit_transform(data.Total_Stops) \n",
        "data.city1=le.fit_trransform(data.city1)\n",
        "data.City2=le.fit_transform(data.City2) \n",
        "data.City3=le.fit_transform(data.City3) \n",
        "data.Additional_Info=le.fit_transform(data.Additional_Info) \n",
        "data.head()"
      ],
      "metadata": {
        "id": "f5tZF5kzpEl0"
      },
      "execution_count": null,
      "outputs": []
    },
    {
      "cell_type": "code",
      "source": [
        "data.head()"
      ],
      "metadata": {
        "id": "lAH3LD0Ar0xe"
      },
      "execution_count": null,
      "outputs": []
    },
    {
      "cell_type": "code",
      "source": [
        "data = data[['Airline', 'Source', 'Destination', 'Date', 'Month', 'Year', 'Dep_Time_Hour', 'Dep_Time_Mins', 'Arrival_date', 'Arrival_Time_Hour', 'Arrival_Time_Mins', 'Price'"
      ],
      "metadata": {
        "id": "gxP-Ec-Nn7jM"
      },
      "execution_count": null,
      "outputs": []
    },
    {
      "cell_type": "code",
      "source": [
        "data.head()"
      ],
      "metadata": {
        "id": "zZc-tXJVqMw_"
      },
      "execution_count": null,
      "outputs": []
    },
    {
      "cell_type": "code",
      "source": [
        "#plotting Countplots for Categorical Data"
      ],
      "metadata": {
        "id": "91Ljgstaqk2a"
      },
      "execution_count": null,
      "outputs": []
    },
    {
      "cell_type": "code",
      "source": [
        "import seaborn as sns \n",
        "c=1\n",
        "plt.figure(figsize=(20,45))"
      ],
      "metadata": {
        "id": "XMVgXRpIrMVC"
      },
      "execution_count": null,
      "outputs": []
    },
    {
      "cell_type": "code",
      "source": [
        "for i in categorical: \n",
        "plt.subplot(6,3,C) \n",
        "sns.countplot(data[i]) \n",
        "plt.xticks(rotation=90) \n",
        "plt.tight_layout(pad=3.0) \n",
        "C=C+1"
      ],
      "metadata": {
        "id": "ZoVPouNrr03O"
      },
      "execution_count": null,
      "outputs": []
    },
    {
      "cell_type": "code",
      "source": [
        "plt.show()"
      ],
      "metadata": {
        "id": "xaap1FFmtIXG"
      },
      "execution_count": null,
      "outputs": []
    },
    {
      "cell_type": "code",
      "source": [
        "#Distribution of 'PRICE' Column \n",
        "plt.figure(figsize=(15,8)) \n",
        "sns.distplot(data.Price)"
      ],
      "metadata": {
        "id": "mN7pIp4NtNJT"
      },
      "execution_count": null,
      "outputs": []
    },
    {
      "cell_type": "code",
      "source": [
        "sns.heatmap(data.corr(),annot=True)"
      ],
      "metadata": {
        "id": "NUQ86vgEuOBh"
      },
      "execution_count": null,
      "outputs": []
    },
    {
      "cell_type": "code",
      "source": [
        "# Detecting the Outliers \n",
        "import seaborn as sns \n",
        "sns.boxplot(data['Price'])"
      ],
      "metadata": {
        "id": "WMLHIyXqu2vZ"
      },
      "execution_count": null,
      "outputs": []
    },
    {
      "cell_type": "code",
      "source": [
        "y = data['Price']\n",
        "x = data.drop(columns=['Price'],axis=1)"
      ],
      "metadata": {
        "id": "uwU0ZRTtvZtA"
      },
      "execution_count": null,
      "outputs": []
    },
    {
      "cell_type": "code",
      "source": [
        "### Scaling the Data"
      ],
      "metadata": {
        "id": "_UXgkEE2wA1m"
      },
      "execution_count": null,
      "outputs": []
    },
    {
      "cell_type": "code",
      "source": [
        "from sklearn.preprocessing import StandardScaler\n",
        "ss=StandardScaler()"
      ],
      "metadata": {
        "id": "4CO1xE51wMFQ"
      },
      "execution_count": null,
      "outputs": []
    },
    {
      "cell_type": "code",
      "source": [
        "x_scaled = ss.fit_transform(x)"
      ],
      "metadata": {
        "id": "zgMjqsa3wlXV"
      },
      "execution_count": null,
      "outputs": []
    },
    {
      "cell_type": "code",
      "source": [
        "x_scaled = pd.DataFrame(x_scaled,columns=x.columns)\n",
        "x_scaled.head()"
      ],
      "metadata": {
        "id": "yWeMdItdwyuI"
      },
      "execution_count": null,
      "outputs": []
    },
    {
      "cell_type": "code",
      "source": [
        "from sklearn.model_selection import train_test_split \n",
        "x_train,x_test,y_train,y_test=train_test_split(x,y,test_size=0.2,random_state=42)"
      ],
      "metadata": {
        "id": "zD8vHpLFxOML"
      },
      "execution_count": null,
      "outputs": []
    },
    {
      "cell_type": "code",
      "source": [
        "x_train.head()"
      ],
      "metadata": {
        "id": "r6QlEJbQyBcy"
      },
      "execution_count": null,
      "outputs": []
    },
    {
      "cell_type": "code",
      "source": [
        "from sklearn.ensemble import RandomForestRegressor, GradientBoostingRegressor, AdaBoostRegressor \n",
        "rfr=RandomForestRegressor()\n",
        "gb=GradientBoostingRegressor()\n",
        "ad=AdaBoostRegressor()"
      ],
      "metadata": {
        "id": "feNPgHAUyKFk"
      },
      "execution_count": null,
      "outputs": []
    },
    {
      "cell_type": "code",
      "source": [
        "from sklearn.metrics import r2_score,mean_absolute_error,mean_squared_error\n",
        "\n",
        "for i in [rfr,gb,ad]:\n",
        "    i.fit(x_train,y_train) \n",
        "    y_pred=i.predict(x_test) \n",
        "    test_score=r2_score(y_test,y_pred) \n",
        "    train_score=r2_score(y_train, i.predict(x_train)) \n",
        "    if abs(train_score-test_score)<=0.2: \n",
        "       print(i)\n",
        "\n",
        "       print(\"R2 score is\",r2_score(y_test,y_pred))\n",
        "       print(\"R2 for train data\",r2_score(y_train, i.predict(x_train))) \n",
        "       print(\"Mean Absolute Error is\",mean_absolute_error(y_pred,y_test)) \n",
        "       print(\"Mean Squared Error is\",mean_squared_error(y_pred,y_test)) \n",
        "       print(\"Root Mean Sqaured Error is\", (mean_squared_error(y_pred,y_test,squared=False)))"
      ],
      "metadata": {
        "id": "rEHHKb8-8Ouz"
      },
      "execution_count": null,
      "outputs": []
    },
    {
      "cell_type": "code",
      "source": [
        "from sklearn.neighbors import KNeighborsRegressor\n",
        "from sklearn.svm import SVR \n",
        "from sklearn.tree import DecisionTreeRegressor\n",
        "\n",
        "from sklearn.metrics import r2_score,mean_absolute_error,mean_squared_error\n",
        "\n",
        "knn=KNeighborsRegressor()\n",
        "svr=SVR()\n",
        "dt=DecisionTreeRegressor()\n",
        "\n",
        "\n",
        "for i in [knn,svr,dt]:\n",
        "    i.fit(x_train,y_train)\n",
        "    y_pred=i.predict(x_test)\n",
        "    test_score=r2_score(y_test,y_pred)\n",
        "    train_score=r2_score(y_train,i.predict(x_train))\n",
        "    if abs(train_score-test_score)<=0.1:\n",
        "       print(i)\n",
        "       print('R2 Score is',r2_score(y_test,y_pred)) \n",
        "       print('R2 Score for train data',r2_score(y_train,i.predict(x_train)))\n",
        "       print('Mean Absolute Error is',mean_absolute_error(y_test,y_pred)) \n",
        "       print('Mean Squared Error is',mean_squared_error(y_test,y_pred))\n",
        "       print('Root Mean Squared Error is'),(mean_squared_error(y_test,y_pred,squared=False)))"
      ],
      "metadata": {
        "id": "RKSAKJ8yA2vW"
      },
      "execution_count": null,
      "outputs": []
    },
    {
      "cell_type": "code",
      "source": [
        "from sklearn.model_selection import cross_val_score \n",
        "for i in range(2,5): \n",
        "    cv=cross_val_score(rfr,x,y,cv=i) \n",
        "    print(rfr,cv.mean())"
      ],
      "metadata": {
        "id": "uyO07BUVJCQM"
      },
      "execution_count": null,
      "outputs": []
    },
    {
      "cell_type": "code",
      "source": [
        "from sklearn.model_selection import RandomizedSearchCV"
      ],
      "metadata": {
        "id": "4gJDL9CiKHs8"
      },
      "execution_count": null,
      "outputs": []
    },
    {
      "cell_type": "code",
      "source": [
        "param_grid={'n_estimators':[10,30,50,70,100],'max_depth':[None,1,2,3],'max_features':['auto','sqrt']}\n",
        "rfr=RandomForestRegressor()\n",
        "rf_res=RandomizedSearchCV(estimator=rfr,param_distributions=param_grid,cv=3,verbose=2,n_jobs=-1)\n",
        "\n",
        "rf_res.fit(x_train,y_train)"
      ],
      "metadata": {
        "id": "1WRnOkuCKzRT"
      },
      "execution_count": null,
      "outputs": []
    },
    {
      "cell_type": "code",
      "source": [
        "gb=GradientBoostingRegressor()\n",
        "gb_res=RandomizedSearchCV(estimator=gb,param_distributions=param_grid,cv=3,verbose=2,n_jobs=-1)\n",
        "\n",
        "\n",
        "gb_res.fit(x_train,y_train)"
      ],
      "metadata": {
        "id": "TxTFaiE6MCjd"
      },
      "execution_count": null,
      "outputs": []
    },
    {
      "cell_type": "code",
      "source": [
        "rfr=RandomForestRegressor(n_estimators=10,max_features='sqrt',max_depth=None)\n",
        "rfr.fit(x_train,y_train)\n",
        "y_train_pred=rfr.predict(x_train)\n",
        "y_test_pred=rfr.predict(x_test)\n",
        "print(\"train accuracy\",r2_score(y_train_pred,y_train))\n",
        "print(\"test accuracy\",r2_score(y_test_pred,y_test))"
      ],
      "metadata": {
        "id": "ZhsPDWW3Nn7d"
      },
      "execution_count": null,
      "outputs": []
    },
    {
      "cell_type": "code",
      "source": [
        "knn=KNeighborsRegressor(n_neighbors=2,algorithm='auto',metric_params=None,n_jobs=-1)\n",
        "knn.fit(x_train,y_train)\n",
        "y_train_pred=knn.predict(x_train)\n",
        "y_test_pred=knn.predict(x_test)\n",
        "print(\"train accuracy\",r2_score(y_train_pred,y_train)) \n",
        "print(\"test accuracy\",r2_score(y_test_pred,y_test))"
      ],
      "metadata": {
        "id": "99ygALVqPS0U"
      },
      "execution_count": null,
      "outputs": []
    },
    {
      "cell_type": "code",
      "source": [
        "rfr=RandomForestRegressor(n_estimators=10,max_features='sqrt',max_depth=None)\n",
        "rfr.fit(x_train,y_train) \n",
        "y_train_pred=rfr.predict(x_train)\n",
        "y_test_pred=rfr.predict(x_test)\n",
        "print(\"train accuracy\",r2_score(y_train_pred,y_train)) \n",
        "print(\"test accuracy\",r2_score(y_test_pred,y_test))"
      ],
      "metadata": {
        "id": "pmU5n5dNQVKd"
      },
      "execution_count": null,
      "outputs": []
    },
    {
      "cell_type": "code",
      "source": [
        "price_list=pd.DataFrame({'Price':prices})"
      ],
      "metadata": {
        "id": "GYSG7KRgSFIY"
      },
      "execution_count": null,
      "outputs": []
    },
    {
      "cell_type": "code",
      "source": [
        "price_list"
      ],
      "metadata": {
        "id": "r7SgDMkHSm72"
      },
      "execution_count": null,
      "outputs": []
    },
    {
      "cell_type": "code",
      "source": [
        "import pickle\n",
        "pickle.dump(rfr,open('model1.pkl','wb'))"
      ],
      "metadata": {
        "id": "tnlG5nkMSrpG"
      },
      "execution_count": null,
      "outputs": []
    }
  ]
}